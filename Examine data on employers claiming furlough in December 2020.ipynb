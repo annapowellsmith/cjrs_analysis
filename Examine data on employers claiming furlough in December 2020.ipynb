{
 "cells": [
  {
   "cell_type": "markdown",
   "metadata": {},
   "source": [
    "# Explore the data on UK employers claiming furlough in December 2020\n",
    "\n",
    "HMRC has published the [list of UK employers who claimed through the CJRS (furlough) scheme](https://www.gov.uk/government/publications/employers-who-have-claimed-through-the-coronavirus-job-retention-scheme) during December 2020. We can join this with [Companies House basic company data](http://download.companieshouse.gov.uk/en_output.html) to learn more about the companies claiming furlough, including their incorporation dates, SICC codes and company structures.\n",
    "\n",
    "Not all furlough recipients can be joined with their Companies House records, since the HMRC data only contains employer names (it will apparently have company numbers from next month). It uses the employer name that’s attached to the PAYE scheme, which only matches a Companies House name perfectly about two-thirds of the time. Still, this produces about half a million matches, enough to be interesting.\n",
    "\n",
    "Suggested next step: join this with Companies House data on persons of significant control.\n",
    "\n",
    "The notebook is published under CC-BY-SA: please attribute Anna Powell-Smith if you reuse any of this work."
   ]
  },
  {
   "cell_type": "code",
   "execution_count": null,
   "metadata": {},
   "outputs": [],
   "source": [
    "import csv\n",
    "import os\n",
    "import pandas as pd\n",
    "import psycopg2\n",
    "import re"
   ]
  },
  {
   "cell_type": "markdown",
   "metadata": {},
   "source": [
    "This assumes you have the HMRC data saved locally."
   ]
  },
  {
   "cell_type": "code",
   "execution_count": null,
   "metadata": {},
   "outputs": [],
   "source": [
    "df = pd.read_csv(\"./data/Employer_claim_data_-_December_2020.csv\")\n",
    "print(len(df))\n",
    "df.head()"
   ]
  },
  {
   "cell_type": "markdown",
   "metadata": {},
   "source": [
    "## Join the HMRC furlough data with Companies House records, by name\n",
    "\n",
    "Join the employer data with Companies House company records. We have to do this by name, since company numbers aren't currently in the published HMRC data (which uses the names recorded on PAYE returns).\n",
    "\n",
    "This assumes: \n",
    "\n",
    "1. you have the latest Companies House records in a local Postgres database (it would be neater to do everything in pandas, but this is what I happened to have already)\n",
    "2. that (i) company names are unique and (i) company names are unique even when LTD/LIMITED are substituted for each other. A quick query of the Companies House dataset suggests this is essentially true - there are about 1500 duplicate entries in a dataset of 4.8 million company names."
   ]
  },
  {
   "cell_type": "code",
   "execution_count": 3,
   "metadata": {},
   "outputs": [],
   "source": [
    "conn = psycopg2.connect(\"dbname=%s user=%s\" % (os.environ['COHOUSE_DB'], os.environ['COHOUSE_DB_USER']))\n",
    "cur = conn.cursor()"
   ]
  },
  {
   "cell_type": "code",
   "execution_count": 19,
   "metadata": {},
   "outputs": [],
   "source": [
    "reader = csv.DictReader(open('./data/Employer_claim_data_-_December_2020.csv'))\n",
    "writer = csv.writer(open(\"./data/joined_employers.csv\", 'w'))\n",
    "header = [\"company_number\", \"company_name\", \"company_category\", \"company_status\", \"company_address\",\n",
    "         \"country_of_origin\", \"dissolution_date\", \"incorporation_date\",\n",
    "          \"sicc1\", \"sicc2\", \"sicc3\", \"sicc4\", \"previous_company1\"]\n",
    "writer.writerow(header)\n",
    "\n",
    "query_str = \", \".join(header)\n",
    "query = \"SELECT %s from cohouse_company\" % query_str\n",
    "for row in reader:\n",
    "    name = row['Employer Name']\n",
    "    cur.execute(query + \" where company_name=%(name)s\", {\"name\": name})\n",
    "    result = cur.fetchone()\n",
    "    # Try substituting LTD/LIMITED (but no fuzzier matching than that).\n",
    "    if not result:\n",
    "        if name.endswith(\" LTD\"):\n",
    "            name = re.sub(\" LTD$\", \" LIMITED\", name)\n",
    "        elif name.endswith(\" LIMITED\"):\n",
    "            name = re.sub(\" LIMITED$\", \" LTD\", name)\n",
    "        cur.execute(query + \" where company_name=%(name)s\", {\"name\": name})\n",
    "        result = cur.fetchone()\n",
    "    if not result:\n",
    "        result = ['' for i in range(0, 12)]\n",
    "        result[1] = name\n",
    "    writer.writerow(result)"
   ]
  },
  {
   "cell_type": "code",
   "execution_count": 20,
   "metadata": {},
   "outputs": [],
   "source": [
    "df_joined = pd.read_csv(\"./data/joined_employers.csv\")\n",
    "df_joined.incorporation_date = pd.to_datetime(df_joined.incorporation_date)"
   ]
  },
  {
   "cell_type": "code",
   "execution_count": 24,
   "metadata": {},
   "outputs": [
    {
     "data": {
      "text/html": [
       "<div>\n",
       "<style scoped>\n",
       "    .dataframe tbody tr th:only-of-type {\n",
       "        vertical-align: middle;\n",
       "    }\n",
       "\n",
       "    .dataframe tbody tr th {\n",
       "        vertical-align: top;\n",
       "    }\n",
       "\n",
       "    .dataframe thead th {\n",
       "        text-align: right;\n",
       "    }\n",
       "</style>\n",
       "<table border=\"1\" class=\"dataframe\">\n",
       "  <thead>\n",
       "    <tr style=\"text-align: right;\">\n",
       "      <th></th>\n",
       "      <th>company_number</th>\n",
       "      <th>company_name</th>\n",
       "      <th>company_category</th>\n",
       "      <th>company_status</th>\n",
       "      <th>company_address</th>\n",
       "      <th>country_of_origin</th>\n",
       "      <th>dissolution_date</th>\n",
       "      <th>incorporation_date</th>\n",
       "      <th>sicc1</th>\n",
       "      <th>sicc2</th>\n",
       "      <th>sicc3</th>\n",
       "      <th>sicc4</th>\n",
       "      <th>previous_company1</th>\n",
       "    </tr>\n",
       "  </thead>\n",
       "  <tbody>\n",
       "    <tr>\n",
       "      <th>0</th>\n",
       "      <td>12434675</td>\n",
       "      <td>&amp; CO DESIGN LIMITED</td>\n",
       "      <td>Private Limited Company</td>\n",
       "      <td>Active</td>\n",
       "      <td>3 ANEURIN COTTAGES BAGILLT CH6 6BQ WALES</td>\n",
       "      <td>United Kingdom</td>\n",
       "      <td>NaN</td>\n",
       "      <td>2020-01-30</td>\n",
       "      <td>47710 - Retail sale of clothing in specialised...</td>\n",
       "      <td>NaN</td>\n",
       "      <td>NaN</td>\n",
       "      <td>NaN</td>\n",
       "      <td>NaN</td>\n",
       "    </tr>\n",
       "    <tr>\n",
       "      <th>1</th>\n",
       "      <td>NaN</td>\n",
       "      <td>&amp; MEETINGS LTD</td>\n",
       "      <td>NaN</td>\n",
       "      <td>NaN</td>\n",
       "      <td>NaN</td>\n",
       "      <td>NaN</td>\n",
       "      <td>NaN</td>\n",
       "      <td>NaT</td>\n",
       "      <td>NaN</td>\n",
       "      <td>NaN</td>\n",
       "      <td>NaN</td>\n",
       "      <td>NaN</td>\n",
       "      <td>NaN</td>\n",
       "    </tr>\n",
       "    <tr>\n",
       "      <th>2</th>\n",
       "      <td>08697873</td>\n",
       "      <td>&amp; NEW LIMITED</td>\n",
       "      <td>Private Limited Company</td>\n",
       "      <td>Active</td>\n",
       "      <td>19 WARREN PARK WAY LEICESTER LE19 4SA</td>\n",
       "      <td>United Kingdom</td>\n",
       "      <td>NaN</td>\n",
       "      <td>2013-09-19</td>\n",
       "      <td>46470 - Wholesale of furniture, carpets and li...</td>\n",
       "      <td>NaN</td>\n",
       "      <td>NaN</td>\n",
       "      <td>NaN</td>\n",
       "      <td>NaN</td>\n",
       "    </tr>\n",
       "    <tr>\n",
       "      <th>3</th>\n",
       "      <td>06508401</td>\n",
       "      <td>&amp; SMITH LIMITED</td>\n",
       "      <td>Private Limited Company</td>\n",
       "      <td>Active</td>\n",
       "      <td>19 ABBOTS BUSINESS PARK KINGS LANGLEY WD4 8FR ...</td>\n",
       "      <td>United Kingdom</td>\n",
       "      <td>NaN</td>\n",
       "      <td>2008-02-19</td>\n",
       "      <td>90030 - Artistic creation</td>\n",
       "      <td>NaN</td>\n",
       "      <td>NaN</td>\n",
       "      <td>NaN</td>\n",
       "      <td>NaN</td>\n",
       "    </tr>\n",
       "    <tr>\n",
       "      <th>4</th>\n",
       "      <td>10709533</td>\n",
       "      <td>&amp; THE NEW ... LTD</td>\n",
       "      <td>Private Limited Company</td>\n",
       "      <td>Active</td>\n",
       "      <td>CAMBRIDGE HOUSE 27 CAMBRIDGE PARK LONDON E11 2...</td>\n",
       "      <td>United Kingdom</td>\n",
       "      <td>NaN</td>\n",
       "      <td>2017-04-05</td>\n",
       "      <td>73120 - Media representation services</td>\n",
       "      <td>NaN</td>\n",
       "      <td>NaN</td>\n",
       "      <td>NaN</td>\n",
       "      <td>NaN</td>\n",
       "    </tr>\n",
       "  </tbody>\n",
       "</table>\n",
       "</div>"
      ],
      "text/plain": [
       "  company_number         company_name         company_category company_status  \\\n",
       "0       12434675  & CO DESIGN LIMITED  Private Limited Company         Active   \n",
       "1            NaN       & MEETINGS LTD                      NaN            NaN   \n",
       "2       08697873        & NEW LIMITED  Private Limited Company         Active   \n",
       "3       06508401      & SMITH LIMITED  Private Limited Company         Active   \n",
       "4       10709533    & THE NEW ... LTD  Private Limited Company         Active   \n",
       "\n",
       "                                     company_address country_of_origin  \\\n",
       "0           3 ANEURIN COTTAGES BAGILLT CH6 6BQ WALES    United Kingdom   \n",
       "1                                                NaN               NaN   \n",
       "2              19 WARREN PARK WAY LEICESTER LE19 4SA    United Kingdom   \n",
       "3  19 ABBOTS BUSINESS PARK KINGS LANGLEY WD4 8FR ...    United Kingdom   \n",
       "4  CAMBRIDGE HOUSE 27 CAMBRIDGE PARK LONDON E11 2...    United Kingdom   \n",
       "\n",
       "   dissolution_date incorporation_date  \\\n",
       "0               NaN         2020-01-30   \n",
       "1               NaN                NaT   \n",
       "2               NaN         2013-09-19   \n",
       "3               NaN         2008-02-19   \n",
       "4               NaN         2017-04-05   \n",
       "\n",
       "                                               sicc1 sicc2 sicc3 sicc4  \\\n",
       "0  47710 - Retail sale of clothing in specialised...   NaN   NaN   NaN   \n",
       "1                                                NaN   NaN   NaN   NaN   \n",
       "2  46470 - Wholesale of furniture, carpets and li...   NaN   NaN   NaN   \n",
       "3                          90030 - Artistic creation   NaN   NaN   NaN   \n",
       "4              73120 - Media representation services   NaN   NaN   NaN   \n",
       "\n",
       "  previous_company1  \n",
       "0               NaN  \n",
       "1               NaN  \n",
       "2               NaN  \n",
       "3               NaN  \n",
       "4               NaN  "
      ]
     },
     "execution_count": 24,
     "metadata": {},
     "output_type": "execute_result"
    }
   ],
   "source": [
    "df_joined.head()"
   ]
  },
  {
   "cell_type": "markdown",
   "metadata": {},
   "source": [
    "Over a third of the companies in the HMRC data can't be joined to Companies House records purely by name, sigh. This will hopefully improve next month when company numbers are included in the data."
   ]
  },
  {
   "cell_type": "code",
   "execution_count": 25,
   "metadata": {},
   "outputs": [
    {
     "data": {
      "text/plain": [
       "507326"
      ]
     },
     "execution_count": 25,
     "metadata": {},
     "output_type": "execute_result"
    }
   ],
   "source": [
    "len(df_joined[~df_joined.company_number.isnull()])"
   ]
  },
  {
   "cell_type": "markdown",
   "metadata": {},
   "source": [
    "## Look at company structures\n",
    "\n",
    "What types of company structure are being supported? The PLCs are probably the companies you've heard of."
   ]
  },
  {
   "cell_type": "code",
   "execution_count": 26,
   "metadata": {},
   "outputs": [
    {
     "data": {
      "text/plain": [
       "company_category\n",
       "Private Limited Company                                                                      496607\n",
       "PRI/LTD BY GUAR/NSC (Private, limited by guarantee, no share capital)                          3459\n",
       "PRI/LBG/NSC (Private, Limited by guarantee, no share capital, use of 'Limited' exemption)      2832\n",
       "Limited Liability Partnership                                                                  1274\n",
       "Charitable Incorporated Organisation                                                            853\n",
       "Community Interest Company                                                                      763\n",
       "Registered Society                                                                              726\n",
       "Public Limited Company                                                                          336\n",
       "Other company type                                                                              174\n",
       "Scottish Charitable Incorporated Organisation                                                   110\n",
       "Private Unlimited Company                                                                        99\n",
       "Royal Charter Company                                                                            65\n",
       "Limited Partnership                                                                              18\n",
       "Industrial and Provident Society                                                                  8\n",
       "PRIV LTD SECT. 30 (Private limited company, section 30 of the Companies Act)                      2\n",
       "dtype: int64"
      ]
     },
     "execution_count": 26,
     "metadata": {},
     "output_type": "execute_result"
    }
   ],
   "source": [
    "df_joined.value_counts(\"company_category\")"
   ]
  },
  {
   "cell_type": "markdown",
   "metadata": {},
   "source": [
    "## Look at incorporation dates"
   ]
  },
  {
   "cell_type": "markdown",
   "metadata": {},
   "source": [
    "There are quite a lot of companies claiming furlough that have only been incorporated since the start of the pandemic.\n",
    "\n",
    "Lots of these will be legitimate, but others may be opportunists. (NB: closer inspection suggests that sometimes new companies are 'incorporated' when they're really a rename of an existing company, too.)"
   ]
  },
  {
   "cell_type": "code",
   "execution_count": 27,
   "metadata": {},
   "outputs": [
    {
     "data": {
      "text/plain": [
       "<AxesSubplot:title={'center':'Year and month of incorporation, for matched companies incorporated since 2018'}, xlabel='incorporation_date,incorporation_date'>"
      ]
     },
     "execution_count": 27,
     "metadata": {},
     "output_type": "execute_result"
    },
    {
     "data": {
      "image/png": "[encoded data removed]",
      "text/plain": [
       "<Figure size 1152x288 with 1 Axes>"
      ]
     },
     "metadata": {
      "needs_background": "light"
     },
     "output_type": "display_data"
    }
   ],
   "source": [
    "df_joined[df_joined.incorporation_date.dt.year > 2018]\\\n",
    "    .groupby([(df_joined.incorporation_date.dt.year),(df_joined.incorporation_date.dt.month)])\\\n",
    "    .company_number.count().plot(kind='bar', color='firebrick', rot=30, figsize=(16,4),\n",
    "                                title=\"Year and month of incorporation, for matched companies incorporated since 2018\")"
   ]
  },
  {
   "cell_type": "markdown",
   "metadata": {},
   "source": [
    "There appear to be 6,300 companies using furlough whose incorporation date is after the start of the first UK lockdown."
   ]
  },
  {
   "cell_type": "code",
   "execution_count": 28,
   "metadata": {},
   "outputs": [
    {
     "data": {
      "text/plain": [
       "6300"
      ]
     },
     "execution_count": 28,
     "metadata": {},
     "output_type": "execute_result"
    }
   ],
   "source": [
    "len(df_joined[df_joined.incorporation_date > \"2020-03-23\"])"
   ]
  },
  {
   "cell_type": "markdown",
   "metadata": {},
   "source": [
    "A few have a 'previous company' field in Companies House, and googling others suggests that they may be renames of existing companies. "
   ]
  },
  {
   "cell_type": "code",
   "execution_count": 30,
   "metadata": {},
   "outputs": [
    {
     "data": {
      "text/plain": [
       "6124"
      ]
     },
     "execution_count": 30,
     "metadata": {},
     "output_type": "execute_result"
    }
   ],
   "source": [
    "len(df_joined[(df_joined.incorporation_date > \"2020-03-23\") & (df_joined.previous_company1.isnull())])"
   ]
  },
  {
   "cell_type": "markdown",
   "metadata": {},
   "source": [
    "In theory, a company can only claim furlough [if it created a PAYE scheme before 30 October 2020](https://www.gov.uk/guidance/claim-for-wage-costs-through-the-coronavirus-job-retention-scheme#who-can-claim) - but some of these companies weren't incorporated then. Surely you can't set up a PAYE scheme before you're incorporated?\n",
    "\n",
    "This suggests either HMRC aren't doing basic checks, or something is wrong with the data somewhere.\n",
    "\n",
    "Hm - if I google some of these companies it looks a lot of them have perhaps just been renamed, though without having a 'previous name' in the data (e.g. Beeronomy Ltd) but perhaps some really are new companies (e.g. Alakai Ltd).\n",
    "\n",
    "This should all get a lot easier to analyse when HMRC include company numbers in the data from next month."
   ]
  },
  {
   "cell_type": "code",
   "execution_count": 37,
   "metadata": {},
   "outputs": [
    {
     "name": "stdout",
     "output_type": "stream",
     "text": [
      "66\n"
     ]
    }
   ],
   "source": [
    "df_setup_since_nov = df_joined[(df_joined.incorporation_date > \"2020-11-01\") & (df_joined.previous_company1.isnull())]\n",
    "print(len(df_setup_since_nov))"
   ]
  },
  {
   "cell_type": "markdown",
   "metadata": {},
   "source": [
    "## Look at SICC codes\n",
    "\n",
    "SICC codes tell us what the company does (as judged by the directors of the company). They are a rough and not especially useful indicator of a company's real activity, but may show us some useful lines of inquiry.\n",
    "\n",
    "There are high counts for hairdressers, restaurants, pubs etc as we'd expect. A notable code in the top 30 is \"Other letting and operating of own or leased real estate\" - this is often used for companies that are tax-efficient wrappers around buy-to-let properties."
   ]
  },
  {
   "cell_type": "code",
   "execution_count": 38,
   "metadata": {},
   "outputs": [
    {
     "data": {
      "text/plain": [
       "sicc1\n",
       "82990 - Other business support service activities n.e.c.                                       25319\n",
       "70229 - Management consultancy activities other than financial management                      18149\n",
       "96090 - Other service activities n.e.c.                                                        17518\n",
       "56101 - Licensed restaurants                                                                   15885\n",
       "96020 - Hairdressing and other beauty treatment                                                15125\n",
       "62020 - Information technology consultancy activities                                          11792\n",
       "56302 - Public houses and bars                                                                 10585\n",
       "49410 - Freight transport by road                                                              10160\n",
       "56102 - Unlicensed restaurants and cafes                                                        8593\n",
       "56103 - Take-away food shops and mobile food stands                                             7974\n",
       "43999 - Other specialised construction activities n.e.c.                                        7884\n",
       "74909 - Other professional, scientific and technical activities n.e.c.                          7862\n",
       "45200 - Maintenance and repair of motor vehicles                                                7734\n",
       "43210 - Electrical installation                                                                 7328\n",
       "41100 - Development of building projects                                                        6744\n",
       "86900 - Other human health activities                                                           6251\n",
       "41202 - Construction of domestic buildings                                                      6217\n",
       "43390 - Other building completion and finishing                                                 5985\n",
       "62090 - Other information technology service activities                                         5452\n",
       "43220 - Plumbing, heat and air-conditioning installation                                        5277\n",
       "69201 - Accounting and auditing activities                                                      5109\n",
       "68209 - Other letting and operating of own or leased real estate                                4998\n",
       "78109 - Other activities of employment placement agencies                                       4581\n",
       "55100 - Hotels and similar accommodation                                                        4567\n",
       "45112 - Sale of used cars and light motor vehicles                                              4226\n",
       "41201 - Construction of commercial buildings                                                    3859\n",
       "62012 - Business and domestic software development                                              3816\n",
       "47110 - Retail sale in non-specialised stores with food, beverages or tobacco predominating     3806\n",
       "74100 - specialised design activities                                                           3775\n",
       "47910 - Retail sale via mail order houses or via Internet                                       3718\n",
       "dtype: int64"
      ]
     },
     "execution_count": 38,
     "metadata": {},
     "output_type": "execute_result"
    }
   ],
   "source": [
    "df_joined.value_counts(\"sicc1\").head(30)"
   ]
  },
  {
   "cell_type": "code",
   "execution_count": null,
   "metadata": {},
   "outputs": [],
   "source": []
  }
 ],
 "metadata": {
  "kernelspec": {
   "display_name": "Python 3",
   "language": "python",
   "name": "python3"
  },
  "language_info": {
   "codemirror_mode": {
    "name": "ipython",
    "version": 3
   },
   "file_extension": ".py",
   "mimetype": "text/x-python",
   "name": "python",
   "nbconvert_exporter": "python",
   "pygments_lexer": "ipython3",
   "version": "3.9.1"
  }
 },
 "nbformat": 4,
 "nbformat_minor": 4
}
